{
 "cells": [
  {
   "cell_type": "code",
   "execution_count": 1,
   "id": "31a82691-8061-4a18-9827-a82764fbe19c",
   "metadata": {},
   "outputs": [],
   "source": [
    "import pandas as pd"
   ]
  },
  {
   "cell_type": "code",
   "execution_count": 5,
   "id": "0640d82e-07be-4eee-9afb-2e1027419314",
   "metadata": {},
   "outputs": [
    {
     "name": "stdout",
     "output_type": "stream",
     "text": [
      "Collecting lxml\n",
      "  Downloading lxml-5.3.0-cp312-cp312-win_amd64.whl.metadata (3.9 kB)\n",
      "Downloading lxml-5.3.0-cp312-cp312-win_amd64.whl (3.8 MB)\n",
      "   ---------------------------------------- 0.0/3.8 MB ? eta -:--:--\n",
      "   ----------------------------------- ---- 3.4/3.8 MB 14.4 MB/s eta 0:00:01\n",
      "   ---------------------------------------- 3.8/3.8 MB 14.2 MB/s eta 0:00:00\n",
      "Installing collected packages: lxml\n",
      "Successfully installed lxml-5.3.0\n"
     ]
    },
    {
     "name": "stderr",
     "output_type": "stream",
     "text": [
      "\n",
      "[notice] A new release of pip is available: 24.2 -> 24.3.1\n",
      "[notice] To update, run: python.exe -m pip install --upgrade pip\n"
     ]
    }
   ],
   "source": [
    "! pip install lxml"
   ]
  },
  {
   "cell_type": "markdown",
   "id": "39a0ea38-7e68-4b92-a825-6b6bfae6fad8",
   "metadata": {},
   "source": [
    "# Handling xml data"
   ]
  },
  {
   "cell_type": "code",
   "execution_count": 4,
   "id": "5eb5d16a-0960-4eac-9444-51eb77af120f",
   "metadata": {},
   "outputs": [
    {
     "data": {
      "text/html": [
       "<div>\n",
       "<style scoped>\n",
       "    .dataframe tbody tr th:only-of-type {\n",
       "        vertical-align: middle;\n",
       "    }\n",
       "\n",
       "    .dataframe tbody tr th {\n",
       "        vertical-align: top;\n",
       "    }\n",
       "\n",
       "    .dataframe thead th {\n",
       "        text-align: right;\n",
       "    }\n",
       "</style>\n",
       "<table border=\"1\" class=\"dataframe\">\n",
       "  <thead>\n",
       "    <tr style=\"text-align: right;\">\n",
       "      <th></th>\n",
       "      <th>s1</th>\n",
       "      <th>sw</th>\n",
       "      <th>p1</th>\n",
       "      <th>label</th>\n",
       "    </tr>\n",
       "  </thead>\n",
       "  <tbody>\n",
       "    <tr>\n",
       "      <th>0</th>\n",
       "      <td>1.20</td>\n",
       "      <td>4.5</td>\n",
       "      <td>5.6</td>\n",
       "      <td>setosa</td>\n",
       "    </tr>\n",
       "    <tr>\n",
       "      <th>1</th>\n",
       "      <td>1.20</td>\n",
       "      <td>4.5</td>\n",
       "      <td>5.6</td>\n",
       "      <td>verginica</td>\n",
       "    </tr>\n",
       "    <tr>\n",
       "      <th>2</th>\n",
       "      <td>1.22</td>\n",
       "      <td>4.5</td>\n",
       "      <td>5.6</td>\n",
       "      <td>versical</td>\n",
       "    </tr>\n",
       "  </tbody>\n",
       "</table>\n",
       "</div>"
      ],
      "text/plain": [
       "     s1   sw   p1      label\n",
       "0  1.20  4.5  5.6     setosa\n",
       "1  1.20  4.5  5.6  verginica\n",
       "2  1.22  4.5  5.6   versical"
      ]
     },
     "execution_count": 4,
     "metadata": {},
     "output_type": "execute_result"
    }
   ],
   "source": [
    "pd.read_xml(r\"C:\\Users\\Lenovo\\Downloads\\iriss.xml\",parser=\"etree\")"
   ]
  },
  {
   "cell_type": "code",
   "execution_count": 13,
   "id": "bb3b8f4b-3edf-4aa0-af18-6f863f955e25",
   "metadata": {},
   "outputs": [],
   "source": [
    "data=pd.read_xml(r\"C:\\Users\\Lenovo\\Downloads\\country.xml\",parser=\"etree\")"
   ]
  },
  {
   "cell_type": "code",
   "execution_count": 14,
   "id": "620bbcbc-3348-4821-9ec5-863abcf70bf6",
   "metadata": {},
   "outputs": [
    {
     "data": {
      "text/html": [
       "<div>\n",
       "<style scoped>\n",
       "    .dataframe tbody tr th:only-of-type {\n",
       "        vertical-align: middle;\n",
       "    }\n",
       "\n",
       "    .dataframe tbody tr th {\n",
       "        vertical-align: top;\n",
       "    }\n",
       "\n",
       "    .dataframe thead th {\n",
       "        text-align: right;\n",
       "    }\n",
       "</style>\n",
       "<table border=\"1\" class=\"dataframe\">\n",
       "  <thead>\n",
       "    <tr style=\"text-align: right;\">\n",
       "      <th></th>\n",
       "      <th>s1</th>\n",
       "      <th>sw</th>\n",
       "      <th>p1</th>\n",
       "      <th>label</th>\n",
       "      <th>name</th>\n",
       "      <th>age</th>\n",
       "      <th>countryname</th>\n",
       "    </tr>\n",
       "  </thead>\n",
       "  <tbody>\n",
       "    <tr>\n",
       "      <th>0</th>\n",
       "      <td>1.20</td>\n",
       "      <td>4.5</td>\n",
       "      <td>5.6</td>\n",
       "      <td>setosa</td>\n",
       "      <td>None</td>\n",
       "      <td>NaN</td>\n",
       "      <td>None</td>\n",
       "    </tr>\n",
       "    <tr>\n",
       "      <th>1</th>\n",
       "      <td>1.20</td>\n",
       "      <td>4.5</td>\n",
       "      <td>5.6</td>\n",
       "      <td>vergina</td>\n",
       "      <td>None</td>\n",
       "      <td>NaN</td>\n",
       "      <td>None</td>\n",
       "    </tr>\n",
       "    <tr>\n",
       "      <th>2</th>\n",
       "      <td>1.22</td>\n",
       "      <td>4.5</td>\n",
       "      <td>5.6</td>\n",
       "      <td>versical</td>\n",
       "      <td>None</td>\n",
       "      <td>NaN</td>\n",
       "      <td>None</td>\n",
       "    </tr>\n",
       "    <tr>\n",
       "      <th>3</th>\n",
       "      <td>NaN</td>\n",
       "      <td>NaN</td>\n",
       "      <td>NaN</td>\n",
       "      <td>None</td>\n",
       "      <td>p1</td>\n",
       "      <td>28.0</td>\n",
       "      <td>None</td>\n",
       "    </tr>\n",
       "    <tr>\n",
       "      <th>4</th>\n",
       "      <td>NaN</td>\n",
       "      <td>NaN</td>\n",
       "      <td>NaN</td>\n",
       "      <td>None</td>\n",
       "      <td>p2</td>\n",
       "      <td>90.0</td>\n",
       "      <td>None</td>\n",
       "    </tr>\n",
       "    <tr>\n",
       "      <th>5</th>\n",
       "      <td>NaN</td>\n",
       "      <td>NaN</td>\n",
       "      <td>NaN</td>\n",
       "      <td>None</td>\n",
       "      <td>None</td>\n",
       "      <td>NaN</td>\n",
       "      <td>India</td>\n",
       "    </tr>\n",
       "    <tr>\n",
       "      <th>6</th>\n",
       "      <td>NaN</td>\n",
       "      <td>NaN</td>\n",
       "      <td>NaN</td>\n",
       "      <td>None</td>\n",
       "      <td>None</td>\n",
       "      <td>NaN</td>\n",
       "      <td>Pakisthan</td>\n",
       "    </tr>\n",
       "  </tbody>\n",
       "</table>\n",
       "</div>"
      ],
      "text/plain": [
       "     s1   sw   p1     label  name   age countryname\n",
       "0  1.20  4.5  5.6    setosa  None   NaN        None\n",
       "1  1.20  4.5  5.6   vergina  None   NaN        None\n",
       "2  1.22  4.5  5.6  versical  None   NaN        None\n",
       "3   NaN  NaN  NaN      None    p1  28.0        None\n",
       "4   NaN  NaN  NaN      None    p2  90.0        None\n",
       "5   NaN  NaN  NaN      None  None   NaN       India\n",
       "6   NaN  NaN  NaN      None  None   NaN   Pakisthan"
      ]
     },
     "execution_count": 14,
     "metadata": {},
     "output_type": "execute_result"
    }
   ],
   "source": [
    "data"
   ]
  },
  {
   "cell_type": "code",
   "execution_count": 8,
   "id": "a1361188-a265-4b34-8016-c332438c6c64",
   "metadata": {},
   "outputs": [
    {
     "data": {
      "text/html": [
       "<div>\n",
       "<style scoped>\n",
       "    .dataframe tbody tr th:only-of-type {\n",
       "        vertical-align: middle;\n",
       "    }\n",
       "\n",
       "    .dataframe tbody tr th {\n",
       "        vertical-align: top;\n",
       "    }\n",
       "\n",
       "    .dataframe thead th {\n",
       "        text-align: right;\n",
       "    }\n",
       "</style>\n",
       "<table border=\"1\" class=\"dataframe\">\n",
       "  <thead>\n",
       "    <tr style=\"text-align: right;\">\n",
       "      <th></th>\n",
       "      <th>name</th>\n",
       "      <th>age</th>\n",
       "    </tr>\n",
       "  </thead>\n",
       "  <tbody>\n",
       "    <tr>\n",
       "      <th>0</th>\n",
       "      <td>p1</td>\n",
       "      <td>28</td>\n",
       "    </tr>\n",
       "    <tr>\n",
       "      <th>1</th>\n",
       "      <td>p2</td>\n",
       "      <td>90</td>\n",
       "    </tr>\n",
       "  </tbody>\n",
       "</table>\n",
       "</div>"
      ],
      "text/plain": [
       "  name  age\n",
       "0   p1   28\n",
       "1   p2   90"
      ]
     },
     "execution_count": 8,
     "metadata": {},
     "output_type": "execute_result"
    }
   ],
   "source": [
    "pd.read_xml(r\"C:\\Users\\Lenovo\\Downloads\\country.xml\",xpath=\"farmer\",parser=\"etree\")"
   ]
  },
  {
   "cell_type": "code",
   "execution_count": 10,
   "id": "6017450b-c360-45d2-8e58-f16a9abb84b8",
   "metadata": {},
   "outputs": [
    {
     "data": {
      "text/html": [
       "<div>\n",
       "<style scoped>\n",
       "    .dataframe tbody tr th:only-of-type {\n",
       "        vertical-align: middle;\n",
       "    }\n",
       "\n",
       "    .dataframe tbody tr th {\n",
       "        vertical-align: top;\n",
       "    }\n",
       "\n",
       "    .dataframe thead th {\n",
       "        text-align: right;\n",
       "    }\n",
       "</style>\n",
       "<table border=\"1\" class=\"dataframe\">\n",
       "  <thead>\n",
       "    <tr style=\"text-align: right;\">\n",
       "      <th></th>\n",
       "      <th>countryname</th>\n",
       "    </tr>\n",
       "  </thead>\n",
       "  <tbody>\n",
       "    <tr>\n",
       "      <th>0</th>\n",
       "      <td>India</td>\n",
       "    </tr>\n",
       "    <tr>\n",
       "      <th>1</th>\n",
       "      <td>Pakisthan</td>\n",
       "    </tr>\n",
       "  </tbody>\n",
       "</table>\n",
       "</div>"
      ],
      "text/plain": [
       "  countryname\n",
       "0       India\n",
       "1   Pakisthan"
      ]
     },
     "execution_count": 10,
     "metadata": {},
     "output_type": "execute_result"
    }
   ],
   "source": [
    "pd.read_xml(r\"C:\\Users\\Lenovo\\Downloads\\country.xml\",xpath=\"country\",parser=\"etree\")"
   ]
  },
  {
   "cell_type": "code",
   "execution_count": 12,
   "id": "b532da67-84f0-4f6e-a46d-520d0421e5dd",
   "metadata": {},
   "outputs": [
    {
     "data": {
      "text/html": [
       "<div>\n",
       "<style scoped>\n",
       "    .dataframe tbody tr th:only-of-type {\n",
       "        vertical-align: middle;\n",
       "    }\n",
       "\n",
       "    .dataframe tbody tr th {\n",
       "        vertical-align: top;\n",
       "    }\n",
       "\n",
       "    .dataframe thead th {\n",
       "        text-align: right;\n",
       "    }\n",
       "</style>\n",
       "<table border=\"1\" class=\"dataframe\">\n",
       "  <thead>\n",
       "    <tr style=\"text-align: right;\">\n",
       "      <th></th>\n",
       "      <th>s1</th>\n",
       "      <th>sw</th>\n",
       "      <th>p1</th>\n",
       "      <th>label</th>\n",
       "    </tr>\n",
       "  </thead>\n",
       "  <tbody>\n",
       "    <tr>\n",
       "      <th>0</th>\n",
       "      <td>1.2</td>\n",
       "      <td>4.5</td>\n",
       "      <td>5.6</td>\n",
       "      <td>setosa</td>\n",
       "    </tr>\n",
       "    <tr>\n",
       "      <th>1</th>\n",
       "      <td>1.2</td>\n",
       "      <td>4.5</td>\n",
       "      <td>5.6</td>\n",
       "      <td>verginica</td>\n",
       "    </tr>\n",
       "  </tbody>\n",
       "</table>\n",
       "</div>"
      ],
      "text/plain": [
       "    s1   sw   p1      label\n",
       "0  1.2  4.5  5.6     setosa\n",
       "1  1.2  4.5  5.6  verginica"
      ]
     },
     "execution_count": 12,
     "metadata": {},
     "output_type": "execute_result"
    }
   ],
   "source": [
    "pd.read_xml(r\"C:\\Users\\Lenovo\\Downloads\\iris1111.xml\",parser=\"etree\")"
   ]
  },
  {
   "cell_type": "code",
   "execution_count": null,
   "id": "fc5a4ba6-e1d7-466c-8ee8-ac9f8bbdbd79",
   "metadata": {},
   "outputs": [],
   "source": [
    "attr_cols"
   ]
  },
  {
   "cell_type": "code",
   "execution_count": 17,
   "id": "56ecaa5c-b325-4e82-b101-54133676b38f",
   "metadata": {},
   "outputs": [],
   "source": [
    "data.to_xml(r\"C:\\Users\\Lenovo\\Downloads\\iris1111.xml\",parser=\"etree\",attr_cols=[\"s1\",\"label\"])  # convert df to attribute xml structure"
   ]
  },
  {
   "cell_type": "code",
   "execution_count": 18,
   "id": "c8fa81e8-2ff1-4ed9-abf0-e27e8699197f",
   "metadata": {},
   "outputs": [
    {
     "data": {
      "text/html": [
       "<div>\n",
       "<style scoped>\n",
       "    .dataframe tbody tr th:only-of-type {\n",
       "        vertical-align: middle;\n",
       "    }\n",
       "\n",
       "    .dataframe tbody tr th {\n",
       "        vertical-align: top;\n",
       "    }\n",
       "\n",
       "    .dataframe thead th {\n",
       "        text-align: right;\n",
       "    }\n",
       "</style>\n",
       "<table border=\"1\" class=\"dataframe\">\n",
       "  <thead>\n",
       "    <tr style=\"text-align: right;\">\n",
       "      <th></th>\n",
       "      <th>s1</th>\n",
       "      <th>sw</th>\n",
       "      <th>p1</th>\n",
       "      <th>label</th>\n",
       "      <th>name</th>\n",
       "      <th>age</th>\n",
       "      <th>countryname</th>\n",
       "    </tr>\n",
       "  </thead>\n",
       "  <tbody>\n",
       "    <tr>\n",
       "      <th>0</th>\n",
       "      <td>1.20</td>\n",
       "      <td>4.5</td>\n",
       "      <td>5.6</td>\n",
       "      <td>setosa</td>\n",
       "      <td>None</td>\n",
       "      <td>NaN</td>\n",
       "      <td>None</td>\n",
       "    </tr>\n",
       "    <tr>\n",
       "      <th>1</th>\n",
       "      <td>1.20</td>\n",
       "      <td>4.5</td>\n",
       "      <td>5.6</td>\n",
       "      <td>vergina</td>\n",
       "      <td>None</td>\n",
       "      <td>NaN</td>\n",
       "      <td>None</td>\n",
       "    </tr>\n",
       "    <tr>\n",
       "      <th>2</th>\n",
       "      <td>1.22</td>\n",
       "      <td>4.5</td>\n",
       "      <td>5.6</td>\n",
       "      <td>versical</td>\n",
       "      <td>None</td>\n",
       "      <td>NaN</td>\n",
       "      <td>None</td>\n",
       "    </tr>\n",
       "    <tr>\n",
       "      <th>3</th>\n",
       "      <td>NaN</td>\n",
       "      <td>NaN</td>\n",
       "      <td>NaN</td>\n",
       "      <td>None</td>\n",
       "      <td>p1</td>\n",
       "      <td>28.0</td>\n",
       "      <td>None</td>\n",
       "    </tr>\n",
       "    <tr>\n",
       "      <th>4</th>\n",
       "      <td>NaN</td>\n",
       "      <td>NaN</td>\n",
       "      <td>NaN</td>\n",
       "      <td>None</td>\n",
       "      <td>p2</td>\n",
       "      <td>90.0</td>\n",
       "      <td>None</td>\n",
       "    </tr>\n",
       "    <tr>\n",
       "      <th>5</th>\n",
       "      <td>NaN</td>\n",
       "      <td>NaN</td>\n",
       "      <td>NaN</td>\n",
       "      <td>None</td>\n",
       "      <td>None</td>\n",
       "      <td>NaN</td>\n",
       "      <td>India</td>\n",
       "    </tr>\n",
       "    <tr>\n",
       "      <th>6</th>\n",
       "      <td>NaN</td>\n",
       "      <td>NaN</td>\n",
       "      <td>NaN</td>\n",
       "      <td>None</td>\n",
       "      <td>None</td>\n",
       "      <td>NaN</td>\n",
       "      <td>Pakisthan</td>\n",
       "    </tr>\n",
       "  </tbody>\n",
       "</table>\n",
       "</div>"
      ],
      "text/plain": [
       "     s1   sw   p1     label  name   age countryname\n",
       "0  1.20  4.5  5.6    setosa  None   NaN        None\n",
       "1  1.20  4.5  5.6   vergina  None   NaN        None\n",
       "2  1.22  4.5  5.6  versical  None   NaN        None\n",
       "3   NaN  NaN  NaN      None    p1  28.0        None\n",
       "4   NaN  NaN  NaN      None    p2  90.0        None\n",
       "5   NaN  NaN  NaN      None  None   NaN       India\n",
       "6   NaN  NaN  NaN      None  None   NaN   Pakisthan"
      ]
     },
     "execution_count": 18,
     "metadata": {},
     "output_type": "execute_result"
    }
   ],
   "source": [
    "data"
   ]
  },
  {
   "cell_type": "code",
   "execution_count": 20,
   "id": "0c9383a0-71bd-4725-b70c-7c6b8f2dcf91",
   "metadata": {},
   "outputs": [],
   "source": [
    "data.to_xml(r\"C:\\Users\\Lenovo\\Downloads\\country.xml\",parser=\"etree\",elem_cols=[\"s1\",\"label\"])  # convert df to element xml structure"
   ]
  },
  {
   "cell_type": "markdown",
   "id": "3e677df3-728c-45d8-bfc9-6b90e4e054ba",
   "metadata": {},
   "source": [
    "# Handling Html data"
   ]
  },
  {
   "cell_type": "code",
   "execution_count": 16,
   "id": "d1b3a11c-9a00-421b-8f5f-92bc5b61253e",
   "metadata": {},
   "outputs": [],
   "source": [
    "data=pd.read_html(\"https://en.wikipedia.org/wiki/Indian_Premier_League\",match=\"Siddharth Patel\")"
   ]
  },
  {
   "cell_type": "code",
   "execution_count": 17,
   "id": "7802538d-06c3-4014-b847-2eb96092537c",
   "metadata": {},
   "outputs": [
    {
     "data": {
      "text/plain": [
       "1"
      ]
     },
     "execution_count": 17,
     "metadata": {},
     "output_type": "execute_result"
    }
   ],
   "source": [
    "len(data)"
   ]
  },
  {
   "cell_type": "code",
   "execution_count": 18,
   "id": "e21c050a-a1eb-488f-aad2-9246e024471c",
   "metadata": {},
   "outputs": [
    {
     "data": {
      "text/plain": [
       "list"
      ]
     },
     "execution_count": 18,
     "metadata": {},
     "output_type": "execute_result"
    }
   ],
   "source": [
    "type(data)"
   ]
  },
  {
   "cell_type": "code",
   "execution_count": 19,
   "id": "76fa5246-8d9e-4e91-95cd-1348c362daf4",
   "metadata": {},
   "outputs": [
    {
     "data": {
      "text/html": [
       "<div>\n",
       "<style scoped>\n",
       "    .dataframe tbody tr th:only-of-type {\n",
       "        vertical-align: middle;\n",
       "    }\n",
       "\n",
       "    .dataframe tbody tr th {\n",
       "        vertical-align: top;\n",
       "    }\n",
       "\n",
       "    .dataframe thead th {\n",
       "        text-align: right;\n",
       "    }\n",
       "</style>\n",
       "<table border=\"1\" class=\"dataframe\">\n",
       "  <thead>\n",
       "    <tr style=\"text-align: right;\">\n",
       "      <th></th>\n",
       "      <th>Team</th>\n",
       "      <th>Team.1</th>\n",
       "      <th>City</th>\n",
       "      <th>Home ground</th>\n",
       "      <th>Debut</th>\n",
       "      <th>Captain</th>\n",
       "      <th>Head coach</th>\n",
       "      <th>Owner(s)</th>\n",
       "    </tr>\n",
       "  </thead>\n",
       "  <tbody>\n",
       "    <tr>\n",
       "      <th>0</th>\n",
       "      <td>NaN</td>\n",
       "      <td>Chennai Super Kings</td>\n",
       "      <td>Chennai, Tamil Nadu</td>\n",
       "      <td>M. A. Chidambaram Stadium</td>\n",
       "      <td>2008</td>\n",
       "      <td>Ruturaj Gaikwad</td>\n",
       "      <td>Stephen Fleming</td>\n",
       "      <td>N. Srinivasan</td>\n",
       "    </tr>\n",
       "    <tr>\n",
       "      <th>1</th>\n",
       "      <td>NaN</td>\n",
       "      <td>Delhi Capitals</td>\n",
       "      <td>New Delhi, Delhi</td>\n",
       "      <td>Arun Jaitley Stadium</td>\n",
       "      <td>2008</td>\n",
       "      <td>NaN</td>\n",
       "      <td>Hemang Badani</td>\n",
       "      <td>Grandhi Mallikarjuna Rao Sajjan Jindal</td>\n",
       "    </tr>\n",
       "    <tr>\n",
       "      <th>2</th>\n",
       "      <td>NaN</td>\n",
       "      <td>Gujarat Titans</td>\n",
       "      <td>Ahmedabad, Gujarat</td>\n",
       "      <td>Narendra Modi Stadium</td>\n",
       "      <td>2022</td>\n",
       "      <td>Shubman Gill</td>\n",
       "      <td>Ashish Nehra</td>\n",
       "      <td>Siddharth Patel</td>\n",
       "    </tr>\n",
       "    <tr>\n",
       "      <th>3</th>\n",
       "      <td>NaN</td>\n",
       "      <td>Kolkata Knight Riders</td>\n",
       "      <td>Kolkata, West Bengal</td>\n",
       "      <td>Eden Gardens</td>\n",
       "      <td>2008</td>\n",
       "      <td>NaN</td>\n",
       "      <td>Chandrakant Pandit</td>\n",
       "      <td>Shah Rukh Khan Juhi Chawla Jay Mehta</td>\n",
       "    </tr>\n",
       "    <tr>\n",
       "      <th>4</th>\n",
       "      <td>NaN</td>\n",
       "      <td>Lucknow Super Giants</td>\n",
       "      <td>Lucknow, Uttar Pradesh</td>\n",
       "      <td>BRSABV Ekana Stadium</td>\n",
       "      <td>2022</td>\n",
       "      <td>NaN</td>\n",
       "      <td>Justin Langer</td>\n",
       "      <td>Sanjiv Goenka</td>\n",
       "    </tr>\n",
       "    <tr>\n",
       "      <th>5</th>\n",
       "      <td>NaN</td>\n",
       "      <td>Mumbai Indians</td>\n",
       "      <td>Mumbai, Maharashtra</td>\n",
       "      <td>Wankhede Stadium</td>\n",
       "      <td>2008</td>\n",
       "      <td>Hardik Pandya</td>\n",
       "      <td>Mahela Jayawardene</td>\n",
       "      <td>Mukesh Ambani</td>\n",
       "    </tr>\n",
       "    <tr>\n",
       "      <th>6</th>\n",
       "      <td>NaN</td>\n",
       "      <td>Punjab Kings</td>\n",
       "      <td>Mullanpur, Punjab</td>\n",
       "      <td>Maharaja Yadavindra Singh International Cricke...</td>\n",
       "      <td>2008</td>\n",
       "      <td>NaN</td>\n",
       "      <td>Ricky Ponting</td>\n",
       "      <td>Mohit Burman Ness Wadia Preity Zinta Karan Paul</td>\n",
       "    </tr>\n",
       "    <tr>\n",
       "      <th>7</th>\n",
       "      <td>NaN</td>\n",
       "      <td>Rajasthan Royals</td>\n",
       "      <td>Jaipur, Rajasthan</td>\n",
       "      <td>Sawai Mansingh Stadium</td>\n",
       "      <td>2008</td>\n",
       "      <td>Sanju Samson</td>\n",
       "      <td>Rahul Dravid</td>\n",
       "      <td>Manoj Badale Lachlan Murdoch Gerry Cardinale</td>\n",
       "    </tr>\n",
       "    <tr>\n",
       "      <th>8</th>\n",
       "      <td>NaN</td>\n",
       "      <td>Royal Challengers Bengaluru</td>\n",
       "      <td>Bangalore, Karnataka</td>\n",
       "      <td>M. Chinnaswamy Stadium</td>\n",
       "      <td>2008</td>\n",
       "      <td>NaN</td>\n",
       "      <td>Andy Flower</td>\n",
       "      <td>Hina Nagarajan</td>\n",
       "    </tr>\n",
       "    <tr>\n",
       "      <th>9</th>\n",
       "      <td>NaN</td>\n",
       "      <td>Sunrisers Hyderabad</td>\n",
       "      <td>Hyderabad, Telangana</td>\n",
       "      <td>Rajiv Gandhi Stadium</td>\n",
       "      <td>2013</td>\n",
       "      <td>Pat Cummins</td>\n",
       "      <td>Daniel Vettori</td>\n",
       "      <td>Kalanithi Maran</td>\n",
       "    </tr>\n",
       "  </tbody>\n",
       "</table>\n",
       "</div>"
      ],
      "text/plain": [
       "   Team                       Team.1                    City  \\\n",
       "0   NaN          Chennai Super Kings     Chennai, Tamil Nadu   \n",
       "1   NaN               Delhi Capitals        New Delhi, Delhi   \n",
       "2   NaN               Gujarat Titans      Ahmedabad, Gujarat   \n",
       "3   NaN        Kolkata Knight Riders    Kolkata, West Bengal   \n",
       "4   NaN         Lucknow Super Giants  Lucknow, Uttar Pradesh   \n",
       "5   NaN               Mumbai Indians     Mumbai, Maharashtra   \n",
       "6   NaN                 Punjab Kings       Mullanpur, Punjab   \n",
       "7   NaN             Rajasthan Royals       Jaipur, Rajasthan   \n",
       "8   NaN  Royal Challengers Bengaluru    Bangalore, Karnataka   \n",
       "9   NaN          Sunrisers Hyderabad    Hyderabad, Telangana   \n",
       "\n",
       "                                         Home ground  Debut          Captain  \\\n",
       "0                          M. A. Chidambaram Stadium   2008  Ruturaj Gaikwad   \n",
       "1                               Arun Jaitley Stadium   2008              NaN   \n",
       "2                              Narendra Modi Stadium   2022     Shubman Gill   \n",
       "3                                       Eden Gardens   2008              NaN   \n",
       "4                               BRSABV Ekana Stadium   2022              NaN   \n",
       "5                                   Wankhede Stadium   2008    Hardik Pandya   \n",
       "6  Maharaja Yadavindra Singh International Cricke...   2008              NaN   \n",
       "7                             Sawai Mansingh Stadium   2008     Sanju Samson   \n",
       "8                             M. Chinnaswamy Stadium   2008              NaN   \n",
       "9                               Rajiv Gandhi Stadium   2013      Pat Cummins   \n",
       "\n",
       "           Head coach                                         Owner(s)  \n",
       "0     Stephen Fleming                                    N. Srinivasan  \n",
       "1       Hemang Badani           Grandhi Mallikarjuna Rao Sajjan Jindal  \n",
       "2        Ashish Nehra                                  Siddharth Patel  \n",
       "3  Chandrakant Pandit             Shah Rukh Khan Juhi Chawla Jay Mehta  \n",
       "4       Justin Langer                                    Sanjiv Goenka  \n",
       "5  Mahela Jayawardene                                    Mukesh Ambani  \n",
       "6       Ricky Ponting  Mohit Burman Ness Wadia Preity Zinta Karan Paul  \n",
       "7        Rahul Dravid     Manoj Badale Lachlan Murdoch Gerry Cardinale  \n",
       "8         Andy Flower                                   Hina Nagarajan  \n",
       "9      Daniel Vettori                                  Kalanithi Maran  "
      ]
     },
     "execution_count": 19,
     "metadata": {},
     "output_type": "execute_result"
    }
   ],
   "source": [
    "data[0]"
   ]
  },
  {
   "cell_type": "code",
   "execution_count": 22,
   "id": "4fb46279-033a-4200-bd60-31f8ff3b2487",
   "metadata": {},
   "outputs": [],
   "source": [
    "data[0].to_html(r\"C:\\Users\\Lenovo\\Downloads\\cricket.html\")"
   ]
  },
  {
   "cell_type": "code",
   "execution_count": 23,
   "id": "7f1be162-13dc-41ab-8f20-e0b4fa29ec10",
   "metadata": {},
   "outputs": [],
   "source": []
  }
 ],
 "metadata": {
  "kernelspec": {
   "display_name": "Python 3 (ipykernel)",
   "language": "python",
   "name": "python3"
  },
  "language_info": {
   "codemirror_mode": {
    "name": "ipython",
    "version": 3
   },
   "file_extension": ".py",
   "mimetype": "text/x-python",
   "name": "python",
   "nbconvert_exporter": "python",
   "pygments_lexer": "ipython3",
   "version": "3.12.5"
  }
 },
 "nbformat": 4,
 "nbformat_minor": 5
}
